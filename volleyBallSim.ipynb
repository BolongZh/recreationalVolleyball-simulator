{
 "cells": [
  {
   "cell_type": "code",
   "execution_count": 1,
   "id": "0dd86f15",
   "metadata": {},
   "outputs": [],
   "source": [
    "from sklearn.model_selection import train_test_split\n",
    "\n",
    "from collections import Counter\n",
    "import matplotlib.pyplot as plt\n",
    "import numpy as np\n",
    "from numpy import genfromtxt\n",
    "import scipy.io\n",
    "from scipy import stats\n",
    "from sklearn.tree import DecisionTreeClassifier, export_graphviz\n",
    "from sklearn.base import BaseEstimator, ClassifierMixin\n",
    "from sklearn.model_selection import cross_validate\n",
    "import sklearn.tree\n",
    "import random\n",
    "import pandas as pd\n",
    "\n",
    "import os\n",
    "import itertools\n",
    "import collections\n",
    "import heapq\n",
    "import math\n",
    "import matplotlib.pylab as pl\n",
    "from matplotlib import rcParams"
   ]
  },
  {
   "cell_type": "code",
   "execution_count": 2,
   "id": "274d083f",
   "metadata": {},
   "outputs": [],
   "source": [
    "## Set font size for later use\n",
    "from matplotlib import rcParams\n",
    "rcParams['font.family'] = 'serif'\n",
    "rcParams['font.size'] = 16\n",
    "\n",
    "## initialize field matrix\n",
    "topleft_field = np.array([[\"A\",\"F\",\"E\"],[\"B\",\"C\",\"D\"]],dtype='<U3')\n",
    "botleft_field = np.array([[\"d\",\"c\",\"b\"],[\"e\",\"f\",\"a\"]],dtype='<U3')\n",
    "topright_field = np.array([[\"i\",\"vi\",\"v\"],[\"ii\",\"iii\",\"iv\"]],dtype='<U3')\n",
    "botright_field = np.array([[\"\\u03B4\",\"\\u03B3\",\"\\u03B2\"],[\"\\u03B5\",\"\\u03C6\",\"\\u03B1\"]],dtype='<U3')"
   ]
  },
  {
   "cell_type": "code",
   "execution_count": 3,
   "id": "5acf7d43",
   "metadata": {},
   "outputs": [],
   "source": [
    "## https://www.geeksforgeeks.org/rotate-matrix-elements/\n",
    "## https://stackoverflow.com/questions/34821565/drawing-matrix-plot-in-python\n",
    "def rotateMatrix(mat):\n",
    " \n",
    "    if not len(mat):\n",
    "        return\n",
    "     \n",
    "    \"\"\"\n",
    "        top : starting row index\n",
    "        bottom : ending row index\n",
    "        left : starting column index\n",
    "        right : ending column index\n",
    "    \"\"\"\n",
    " \n",
    "    top = 0\n",
    "    bottom = len(mat)-1\n",
    " \n",
    "    left = 0\n",
    "    right = len(mat[0])-1\n",
    " \n",
    "    while left < right and top < bottom:\n",
    " \n",
    "        # Store the first element of next row,\n",
    "        # this element will replace first element of\n",
    "        # current row\n",
    "        prev = mat[top+1][left]\n",
    " \n",
    "        # Move elements of top row one step right\n",
    "        for i in range(left, right+1):\n",
    "            curr = mat[top][i]\n",
    "            mat[top][i] = prev\n",
    "            prev = curr\n",
    " \n",
    "        top += 1\n",
    " \n",
    "        # Move elements of rightmost column one step downwards\n",
    "        for i in range(top, bottom+1):\n",
    "            curr = mat[i][right]\n",
    "            mat[i][right] = prev\n",
    "            prev = curr\n",
    " \n",
    "        right -= 1\n",
    " \n",
    "        # Move elements of bottom row one step left\n",
    "        for i in range(right, left-1, -1):\n",
    "            curr = mat[bottom][i]\n",
    "            mat[bottom][i] = prev\n",
    "            prev = curr\n",
    " \n",
    "        bottom -= 1\n",
    " \n",
    "        # Move elements of leftmost column one step upwards\n",
    "        for i in range(bottom, top-1, -1):\n",
    "            curr = mat[i][left]\n",
    "            mat[i][left] = prev\n",
    "            prev = curr\n",
    " \n",
    "        left += 1\n",
    " \n",
    "    return mat\n",
    " \n",
    "def rotate(mat, t, cycle):\n",
    "    # rotate clockwise t times\n",
    "    # first time when rotations cycle\n",
    "    for i in range(t%cycle):\n",
    "        mat = rotateMatrix(mat)\n",
    "    return mat\n",
    "\n",
    "def endStageRotate4(field):\n",
    "    # this function is not generalized\n",
    "    prev = np.copy(field[1][1,:])\n",
    "    nxt = None\n",
    "    field[1][1,np.arange(3)] = np.copy(field[0][1,:])\n",
    "    nxt = np.copy(field[3][0,:])\n",
    "    field[3][0,np.arange(3)]=prev[::-1]\n",
    "    prev = nxt\n",
    "    nxt = np.copy(field[2][0,:])\n",
    "    field[2][0,np.arange(3)] = prev\n",
    "    prev = nxt\n",
    "    field[0][1,np.arange(3)]=prev[::-1]\n",
    "    \n",
    "def drawMatrix(A):\n",
    "\n",
    "    m = len(A)\n",
    "    n = len(A[0])\n",
    "    if True:\n",
    "        for krow, row in enumerate(A):\n",
    "\n",
    "            for kcol, num in enumerate(row):\n",
    "\n",
    "                plt.text(10*kcol + 5, 10*krow + 5, num,\n",
    "                         horizontalalignment='center',\n",
    "                         verticalalignment='center')\n",
    "\n",
    "        plt.axis([0, 10*n, 10*m , 0])\n",
    "        plt.xticks(np.linspace(0, 10*n, n + 1), [])\n",
    "        plt.yticks(np.linspace(0, 10*m, m + 1), [])\n",
    "        plt.grid(linestyle=\"solid\")\n",
    "\n"
   ]
  },
  {
   "cell_type": "code",
   "execution_count": 4,
   "id": "b05e753b",
   "metadata": {},
   "outputs": [
    {
     "data": {
      "image/png": "[encoded data removed]",
      "text/plain": [
       "<Figure size 720x576 with 4 Axes>"
      ]
     },
     "metadata": {
      "needs_background": "light"
     },
     "output_type": "display_data"
    }
   ],
   "source": [
    "## figure on pg. 3\n",
    "field_width = 2\n",
    "field_length = 2\n",
    "fields = [topleft_field,topright_field,botleft_field,botright_field]\n",
    "field_name = [\"Top left\", \"Top right\", \"Bottom left\",\"Bottom right\"]\n",
    "def makePlots(fields):\n",
    "    plt.figure(figsize=(10,8))\n",
    "    for i in range(1,field_width*field_length+1):\n",
    "        plt.subplot(field_length,field_width,i)\n",
    "        drawMatrix(fields[i-1])\n",
    "        plt.title(field_name[i-1])\n",
    "makePlots(fields)"
   ]
  },
  {
   "cell_type": "code",
   "execution_count": 5,
   "id": "26b56dd3",
   "metadata": {},
   "outputs": [
    {
     "data": {
      "image/png": "[encoded data removed]",
      "text/plain": [
       "<Figure size 720x576 with 4 Axes>"
      ]
     },
     "metadata": {
      "needs_background": "light"
     },
     "output_type": "display_data"
    }
   ],
   "source": [
    "## figure on pg. 3\n",
    "cardinality = 6\n",
    "rot_times = [5,3,4,4]\n",
    "for m,t in zip(fields,rot_times):\n",
    "    rotate(m,t,cardinality)\n",
    "makePlots(fields)"
   ]
  },
  {
   "cell_type": "code",
   "execution_count": 6,
   "id": "386993a0",
   "metadata": {},
   "outputs": [
    {
     "data": {
      "image/png": "[encoded data removed]",
      "text/plain": [
       "<Figure size 720x576 with 4 Axes>"
      ]
     },
     "metadata": {
      "needs_background": "light"
     },
     "output_type": "display_data"
    }
   ],
   "source": [
    "# At the end of one stage, the players in the back row of each team stay\n",
    "# in these positions for the start of the next game, while the front row players\n",
    "# move (clockwise in the gym) to the same positions in the next quadrant.\n",
    "endStageRotate4(fields)\n",
    "makePlots(fields)"
   ]
  },
  {
   "cell_type": "code",
   "execution_count": 7,
   "id": "df89d085",
   "metadata": {},
   "outputs": [
    {
     "name": "stdout",
     "output_type": "stream",
     "text": [
      "['i' 'vi' 'sss']\n",
      "[['i' 'vi' 'sss']\n",
      " ['2' '2' '2ss']]\n",
      "['i' 'vi' 'sss']\n"
     ]
    }
   ],
   "source": [
    "j = np.array([[\"i\",\"vi\",\"sss\"],[\"ii\",\"iii\",\"iv\"]])\n",
    "s = np.array([[\"1\",\"1\",\"1\"],[\"2\",\"2\",\"2ss\"]])\n",
    "k = np.copy(j[0,:])\n",
    "print(k)\n",
    "s[0,np.arange(3)] = k\n",
    "print(s)\n",
    "print(k)"
   ]
  },
  {
   "cell_type": "code",
   "execution_count": null,
   "id": "4da2b51d",
   "metadata": {},
   "outputs": [],
   "source": []
  }
 ],
 "metadata": {
  "kernelspec": {
   "display_name": "Python 3 (ipykernel)",
   "language": "python",
   "name": "python3"
  },
  "language_info": {
   "codemirror_mode": {
    "name": "ipython",
    "version": 3
   },
   "file_extension": ".py",
   "mimetype": "text/x-python",
   "name": "python",
   "nbconvert_exporter": "python",
   "pygments_lexer": "ipython3",
   "version": "3.9.6"
  }
 },
 "nbformat": 4,
 "nbformat_minor": 5
}
